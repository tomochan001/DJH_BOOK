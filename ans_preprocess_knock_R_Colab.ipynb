{
  "nbformat": 4,
  "nbformat_minor": 0,
  "metadata": {
    "colab": {
      "name": "preprocess_knock_R_Colab.ipynb",
      "provenance": [],
      "include_colab_link": true
    },
    "kernelspec": {
      "name": "ir",
      "display_name": "R"
    }
  },
  "cells": [
    {
      "cell_type": "markdown",
      "metadata": {
        "id": "view-in-github",
        "colab_type": "text"
      },
      "source": [
        "<a href=\"https://colab.research.google.com/github/tomochan001/DJH_BOOK/blob/master/ans_preprocess_knock_R_Colab.ipynb\" target=\"_parent\"><img src=\"https://colab.research.google.com/assets/colab-badge.svg\" alt=\"Open In Colab\"/></a>"
      ]
    },
    {
      "cell_type": "markdown",
      "metadata": {
        "id": "sGBVJyGrnAdc",
        "colab_type": "text"
      },
      "source": [
        "# データサイエンス100本ノック（構造化データ加工編） - R"
      ]
    },
    {
      "cell_type": "markdown",
      "metadata": {
        "id": "C10vv6-onUqS",
        "colab_type": "text"
      },
      "source": [
        "## はじめに"
      ]
    },
    {
      "cell_type": "markdown",
      "metadata": {
        "id": "XEiqj0MOnav4",
        "colab_type": "text"
      },
      "source": [
        "- 初めに以下のセルを実行してください\n",
        "- 必要なライブラリのインポートと~~データベース（PostgreSQL）からのデータ読み込みを行います~~\n",
        "- 利用が想定されるライブラリは以下セルでインポートしています\n",
        "- その他利用したいライブラリがあれば適宜インストールしてください（!マークに続けてOSコマンドを入力することで、任意のubuntu Linuxコマンドが入力可能）\n",
        "- 名前、住所等はダミーデータであり、実在するものではありません"
      ]
    },
    {
      "cell_type": "code",
      "metadata": {
        "id": "jxzzev0Xl0V-",
        "colab_type": "code",
        "colab": {
          "base_uri": "https://localhost:8080/",
          "height": 255
        },
        "outputId": "d6ec7333-4ff9-45cf-c376-78683cb4860e"
      },
      "source": [
        "require('tidyr')\n",
        "require('dplyr')\n",
        "require('stringr')\n",
        "require('caret')\n",
        "require('lubridate')\n",
        "require('rsample')\n",
        "require('unbalanced')\n",
        "require('readr')"
      ],
      "execution_count": 4,
      "outputs": [
        {
          "output_type": "stream",
          "text": [
            "Loading required package: caret\n",
            "\n",
            "Warning message in library(package, lib.loc = lib.loc, character.only = TRUE, logical.return = TRUE, :\n",
            "“there is no package called ‘caret’”\n",
            "Loading required package: rsample\n",
            "\n",
            "Warning message in library(package, lib.loc = lib.loc, character.only = TRUE, logical.return = TRUE, :\n",
            "“there is no package called ‘rsample’”\n",
            "Loading required package: unbalanced\n",
            "\n",
            "Warning message in library(package, lib.loc = lib.loc, character.only = TRUE, logical.return = TRUE, :\n",
            "“there is no package called ‘unbalanced’”\n",
            "Loading required package: readr\n",
            "\n"
          ],
          "name": "stderr"
        }
      ]
    },
    {
      "cell_type": "code",
      "metadata": {
        "id": "PkWYgzBLnL3i",
        "colab_type": "code",
        "colab": {
          "base_uri": "https://localhost:8080/",
          "height": 1000
        },
        "outputId": "2318b9a6-6b05-4423-fd36-f5edf87c57ab"
      },
      "source": [
        "# データを github/noguhiro2002/100knocks-preprocess/work/data フォルダよりDataframe形式でRead\n",
        "df_customer = read_csv('https://raw.githubusercontent.com/The-Japan-DataScientist-Society/100knocks-preprocess/master/docker/work/data/customer.csv')\n",
        "df_category = read_csv('https://raw.githubusercontent.com/The-Japan-DataScientist-Society/100knocks-preprocess/master/docker/work/data/category.csv')\n",
        "df_product = read_csv('https://raw.githubusercontent.com/The-Japan-DataScientist-Society/100knocks-preprocess/master/docker/work/data/product.csv')\n",
        "df_receipt = read_csv('https://raw.githubusercontent.com/The-Japan-DataScientist-Society/100knocks-preprocess/master/docker/work/data/receipt.csv')\n",
        "df_store = read_csv('https://raw.githubusercontent.com/The-Japan-DataScientist-Society/100knocks-preprocess/master/docker/work/data/store.csv')\n",
        "# df_geocode = read_csv('https://raw.githubusercontent.com/noguhiro2002/100knocks-preprocess_ForColab-AzureNotebook/master/data/geocode.csv')\n",
        "df_geocode = read_csv('https://github.com/The-Japan-DataScientist-Society/100knocks-preprocess/blob/master/docker/work/data/geocode.csv')"
      ],
      "execution_count": 7,
      "outputs": [
        {
          "output_type": "stream",
          "text": [
            "Parsed with column specification:\n",
            "cols(\n",
            "  customer_id = \u001b[31mcol_character()\u001b[39m,\n",
            "  customer_name = \u001b[31mcol_character()\u001b[39m,\n",
            "  gender_cd = \u001b[32mcol_double()\u001b[39m,\n",
            "  gender = \u001b[31mcol_character()\u001b[39m,\n",
            "  birth_day = \u001b[34mcol_date(format = \"\")\u001b[39m,\n",
            "  age = \u001b[32mcol_double()\u001b[39m,\n",
            "  postal_cd = \u001b[31mcol_character()\u001b[39m,\n",
            "  address = \u001b[31mcol_character()\u001b[39m,\n",
            "  application_store_cd = \u001b[31mcol_character()\u001b[39m,\n",
            "  application_date = \u001b[32mcol_double()\u001b[39m,\n",
            "  status_cd = \u001b[31mcol_character()\u001b[39m\n",
            ")\n",
            "\n",
            "Parsed with column specification:\n",
            "cols(\n",
            "  category_major_cd = \u001b[31mcol_character()\u001b[39m,\n",
            "  category_major_name = \u001b[31mcol_character()\u001b[39m,\n",
            "  category_medium_cd = \u001b[31mcol_character()\u001b[39m,\n",
            "  category_medium_name = \u001b[31mcol_character()\u001b[39m,\n",
            "  category_small_cd = \u001b[31mcol_character()\u001b[39m,\n",
            "  category_small_name = \u001b[31mcol_character()\u001b[39m\n",
            ")\n",
            "\n",
            "Parsed with column specification:\n",
            "cols(\n",
            "  product_cd = \u001b[31mcol_character()\u001b[39m,\n",
            "  category_major_cd = \u001b[31mcol_character()\u001b[39m,\n",
            "  category_medium_cd = \u001b[31mcol_character()\u001b[39m,\n",
            "  category_small_cd = \u001b[31mcol_character()\u001b[39m,\n",
            "  unit_price = \u001b[32mcol_double()\u001b[39m,\n",
            "  unit_cost = \u001b[32mcol_double()\u001b[39m\n",
            ")\n",
            "\n",
            "Parsed with column specification:\n",
            "cols(\n",
            "  sales_ymd = \u001b[32mcol_double()\u001b[39m,\n",
            "  sales_epoch = \u001b[32mcol_double()\u001b[39m,\n",
            "  store_cd = \u001b[31mcol_character()\u001b[39m,\n",
            "  receipt_no = \u001b[32mcol_double()\u001b[39m,\n",
            "  receipt_sub_no = \u001b[32mcol_double()\u001b[39m,\n",
            "  customer_id = \u001b[31mcol_character()\u001b[39m,\n",
            "  product_cd = \u001b[31mcol_character()\u001b[39m,\n",
            "  quantity = \u001b[32mcol_double()\u001b[39m,\n",
            "  amount = \u001b[32mcol_double()\u001b[39m\n",
            ")\n",
            "\n",
            "Parsed with column specification:\n",
            "cols(\n",
            "  store_cd = \u001b[31mcol_character()\u001b[39m,\n",
            "  store_name = \u001b[31mcol_character()\u001b[39m,\n",
            "  prefecture_cd = \u001b[32mcol_double()\u001b[39m,\n",
            "  prefecture = \u001b[31mcol_character()\u001b[39m,\n",
            "  address = \u001b[31mcol_character()\u001b[39m,\n",
            "  address_kana = \u001b[31mcol_character()\u001b[39m,\n",
            "  tel_no = \u001b[31mcol_character()\u001b[39m,\n",
            "  longitude = \u001b[32mcol_double()\u001b[39m,\n",
            "  latitude = \u001b[32mcol_double()\u001b[39m,\n",
            "  floor_area = \u001b[32mcol_double()\u001b[39m\n",
            ")\n",
            "\n",
            "Parsed with column specification:\n",
            "cols(\n",
            "  `<!DOCTYPE html>` = \u001b[31mcol_character()\u001b[39m\n",
            ")\n",
            "\n",
            "Warning message:\n",
            "“87 parsing failures.\n",
            "row col  expected    actual                                                                                                               file\n",
            " 26  -- 1 columns 2 columns 'https://github.com/The-Japan-DataScientist-Society/100knocks-preprocess/blob/master/docker/work/data/geocode.csv'\n",
            " 63  -- 1 columns 3 columns 'https://github.com/The-Japan-DataScientist-Society/100knocks-preprocess/blob/master/docker/work/data/geocode.csv'\n",
            " 71  -- 1 columns 6 columns 'https://github.com/The-Japan-DataScientist-Society/100knocks-preprocess/blob/master/docker/work/data/geocode.csv'\n",
            " 72  -- 1 columns 3 columns 'https://github.com/The-Japan-DataScientist-Society/100knocks-preprocess/blob/master/docker/work/data/geocode.csv'\n",
            " 93  -- 1 columns 4 columns 'https://github.com/The-Japan-DataScientist-Society/100knocks-preprocess/blob/master/docker/work/data/geocode.csv'\n",
            "... ... ......... ......... ..................................................................................................................\n",
            "See problems(...) for more details.\n",
            "”\n"
          ],
          "name": "stderr"
        }
      ]
    },
    {
      "cell_type": "code",
      "metadata": {
        "id": "QZVYbkmznNqD",
        "colab_type": "code",
        "colab": {
          "base_uri": "https://localhost:8080/",
          "height": 391
        },
        "outputId": "818b8187-dbe0-47d3-ad4b-c394d1c1514b"
      },
      "source": [
        "str(df_receipt)"
      ],
      "execution_count": 6,
      "outputs": [
        {
          "output_type": "stream",
          "text": [
            "tibble [104,681 × 9] (S3: spec_tbl_df/tbl_df/tbl/data.frame)\n",
            " $ sales_ymd     : num [1:104681] 20181103 20181118 20170712 20190205 20180821 ...\n",
            " $ sales_epoch   : num [1:104681] 1.26e+09 1.26e+09 1.22e+09 1.27e+09 1.25e+09 ...\n",
            " $ store_cd      : chr [1:104681] \"S14006\" \"S13008\" \"S14028\" \"S14042\" ...\n",
            " $ receipt_no    : num [1:104681] 112 1132 1102 1132 1102 ...\n",
            " $ receipt_sub_no: num [1:104681] 1 2 1 1 2 1 2 1 2 1 ...\n",
            " $ customer_id   : chr [1:104681] \"CS006214000001\" \"CS008415000097\" \"CS028414000014\" \"ZZ000000000000\" ...\n",
            " $ product_cd    : chr [1:104681] \"P070305012\" \"P070701017\" \"P060101005\" \"P050301001\" ...\n",
            " $ quantity      : num [1:104681] 1 1 1 1 1 1 1 1 1 1 ...\n",
            " $ amount        : num [1:104681] 158 81 170 25 90 138 30 128 770 680 ...\n",
            " - attr(*, \"spec\")=\n",
            "  .. cols(\n",
            "  ..   sales_ymd = \u001b[32mcol_double()\u001b[39m,\n",
            "  ..   sales_epoch = \u001b[32mcol_double()\u001b[39m,\n",
            "  ..   store_cd = \u001b[31mcol_character()\u001b[39m,\n",
            "  ..   receipt_no = \u001b[32mcol_double()\u001b[39m,\n",
            "  ..   receipt_sub_no = \u001b[32mcol_double()\u001b[39m,\n",
            "  ..   customer_id = \u001b[31mcol_character()\u001b[39m,\n",
            "  ..   product_cd = \u001b[31mcol_character()\u001b[39m,\n",
            "  ..   quantity = \u001b[32mcol_double()\u001b[39m,\n",
            "  ..   amount = \u001b[32mcol_double()\u001b[39m\n",
            "  .. )\n"
          ],
          "name": "stdout"
        }
      ]
    },
    {
      "cell_type": "code",
      "metadata": {
        "id": "XZnmT7Weu2Km",
        "colab_type": "code",
        "colab": {}
      },
      "source": [
        ""
      ],
      "execution_count": null,
      "outputs": []
    }
  ]
}